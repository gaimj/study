{
 "cells": [
  {
   "cell_type": "markdown",
   "metadata": {},
   "source": [
    "# 멜론에서 발라드, 댄스 장르별로 2500개씩 크롤링하기"
   ]
  },
  {
   "cell_type": "code",
   "execution_count": 18,
   "metadata": {
    "collapsed": true
   },
   "outputs": [],
   "source": [
    "import requests\n",
    "import lxml.html\n",
    "import re\n",
    "from bs4 import BeautifulSoup\n",
    "import tqdm\n",
    "import time"
   ]
  },
  {
   "cell_type": "code",
   "execution_count": 19,
   "metadata": {
    "collapsed": true
   },
   "outputs": [],
   "source": [
    "import itertools"
   ]
  },
  {
   "cell_type": "code",
   "execution_count": 20,
   "metadata": {
    "collapsed": true
   },
   "outputs": [],
   "source": [
    "from pandas import DataFrame, Series\n",
    "import pandas as pd"
   ]
  },
  {
   "cell_type": "code",
   "execution_count": 21,
   "metadata": {
    "collapsed": true
   },
   "outputs": [],
   "source": [
    "url_base = 'http://www.melon.com/genre/song_listPaging.htm?startIndex={startindex}&pageSize=50&gnrCode={gnrcode}&dtlGnrCode=&orderBy=POP'"
   ]
  },
  {
   "cell_type": "code",
   "execution_count": 22,
   "metadata": {
    "collapsed": true
   },
   "outputs": [],
   "source": [
    "genre = ['GN0100', 'GN0200']  # 발라드=GN0100, 댄스='GN0200'"
   ]
  },
  {
   "cell_type": "code",
   "execution_count": 23,
   "metadata": {
    "collapsed": true
   },
   "outputs": [],
   "source": [
    "index_page = list(itertools.product(genre, range(1, 2500, 50)))"
   ]
  },
  {
   "cell_type": "code",
   "execution_count": 24,
   "metadata": {
    "collapsed": false
   },
   "outputs": [
    {
     "data": {
      "text/plain": [
       "('GN0100', 1)"
      ]
     },
     "execution_count": 24,
     "metadata": {},
     "output_type": "execute_result"
    }
   ],
   "source": [
    "index_page[0]"
   ]
  },
  {
   "cell_type": "code",
   "execution_count": 25,
   "metadata": {
    "collapsed": false
   },
   "outputs": [
    {
     "name": "stdout",
     "output_type": "stream",
     "text": [
      "\n"
     ]
    }
   ],
   "source": [
    "detail_url = 'http://www.melon.com/song/detail.htm?songId={songid}'\n",
    "header = {'User-Agent':'Mozilla/5.0 (Windows NT 10.0; Win64; x64) AppleWebKit/537.36 (KHTML, like Gecko) Chrome/58.0.3029.110 Safari/537.36'}\n",
    "song_url = []\n",
    "\n",
    "for gnrcode, startindex in tqdm.tqdm_notebook(index_page):\n",
    "    url = url_base.format(startindex=startindex, gnrcode=gnrcode)\n",
    "    html = requests.get(url, headers=header).text\n",
    "    soup = BeautifulSoup(html, 'html.parser')\n",
    "    song_list = soup.select('a[href*=playSong]')\n",
    "    \n",
    "    for top_100 in song_list:\n",
    "        play = top_100['href']\n",
    "        detail = re.search(r\"(\\d+)'?\\)\", play)\n",
    "        song_id = detail.group(1)\n",
    "        song_url.append(detail_url.format(songid=song_id))"
   ]
  },
  {
   "cell_type": "code",
   "execution_count": 26,
   "metadata": {
    "collapsed": false
   },
   "outputs": [
    {
     "data": {
      "text/plain": [
       "5000"
      ]
     },
     "execution_count": 26,
     "metadata": {},
     "output_type": "execute_result"
    }
   ],
   "source": [
    "len(song_url)"
   ]
  },
  {
   "cell_type": "markdown",
   "metadata": {},
   "source": [
    "## 가사"
   ]
  },
  {
   "cell_type": "code",
   "execution_count": 27,
   "metadata": {
    "collapsed": false
   },
   "outputs": [
    {
     "name": "stdout",
     "output_type": "stream",
     "text": [
      "\n"
     ]
    }
   ],
   "source": [
    "genre = []\n",
    "lyrics = []\n",
    "\n",
    "for url in tqdm.tqdm_notebook(song_url):\n",
    "    lyric_res = requests.get(url, headers=header)\n",
    "    lyric_html = lyric_res.text\n",
    "    soup_lr = BeautifulSoup(lyric_html, 'html.parser')\n",
    "    \n",
    "    gnr = soup_lr.select('.song_info.clfix dd')[3]\n",
    "    genre.append(gnr.text)\n",
    "    \n",
    "    try:\n",
    "        body = soup_lr.select('#d_video_summary')[0]\n",
    "        body2 = re.sub(r'<.+->|<\\/?\\w+>', ' ', str(body))   #body.text를 하면 줄이 바뀔때마다 띄어쓰기가 안됨, 방법을 몰라서 그냥 <> 로 되있는걸 짜름\n",
    "        lyrics.append(body2)\n",
    "    except IndexError:\n",
    "        lyrics.append('')\n",
    "    \n",
    "    df2 = DataFrame({'genre': genre,\n",
    "                     'lyric': lyrics})\n",
    "    \n",
    "    time.sleep(5)"
   ]
  },
  {
   "cell_type": "code",
   "execution_count": 40,
   "metadata": {
    "collapsed": false
   },
   "outputs": [
    {
     "data": {
      "text/html": [
       "<div>\n",
       "<table border=\"1\" class=\"dataframe\">\n",
       "  <thead>\n",
       "    <tr style=\"text-align: right;\">\n",
       "      <th></th>\n",
       "      <th>genre</th>\n",
       "      <th>lyric</th>\n",
       "    </tr>\n",
       "  </thead>\n",
       "  <tbody>\n",
       "    <tr>\n",
       "      <th>0</th>\n",
       "      <td>Ballad</td>\n",
       "      <td>\\r\\n\\t\\t\\t\\t환상을 본 적이 있나요 전 있어요 아지랑이 같은 색깔이죠 텅...</td>\n",
       "    </tr>\n",
       "    <tr>\n",
       "      <th>1</th>\n",
       "      <td>Ballad</td>\n",
       "      <td>\\r\\n\\t\\t\\t\\t이 밤 그날의 반딧불을 당신의 창 가까이 보낼게요 음 사랑한...</td>\n",
       "    </tr>\n",
       "    <tr>\n",
       "      <th>2</th>\n",
       "      <td>Ballad</td>\n",
       "      <td>\\r\\n\\t\\t\\t\\t비내리는 날엔 우산이 돼주고 어둠이 오면 빛이 돼줄게 추운 ...</td>\n",
       "    </tr>\n",
       "    <tr>\n",
       "      <th>3</th>\n",
       "      <td>Ballad</td>\n",
       "      <td>\\r\\n\\t\\t\\t\\t안녕 오랜만이야 물음표 없이 참 너다운 목소리 정해진 규칙처...</td>\n",
       "    </tr>\n",
       "    <tr>\n",
       "      <th>4</th>\n",
       "      <td>Ballad</td>\n",
       "      <td>\\r\\n\\t\\t\\t\\t더는 할 말이 없어 다른 이유도 어떤 변명도 난 의미 없단 ...</td>\n",
       "    </tr>\n",
       "    <tr>\n",
       "      <th>5</th>\n",
       "      <td>Ballad</td>\n",
       "      <td>\\r\\n\\t\\t\\t\\t조만간 얼굴 보자  언제 밥 한번 먹자  좋아 좋아  난 오...</td>\n",
       "    </tr>\n",
       "    <tr>\n",
       "      <th>6</th>\n",
       "      <td>Ballad</td>\n",
       "      <td>\\r\\n\\t\\t\\t\\t그리울 때 눈 감으면 더 잘 보이는 그런 사람 잊으려 하고 ...</td>\n",
       "    </tr>\n",
       "    <tr>\n",
       "      <th>7</th>\n",
       "      <td>Ballad</td>\n",
       "      <td>\\r\\n\\t\\t\\t\\t이건 비밀이야  아무에게도 고백하지 않았던 이야기를 들려주면...</td>\n",
       "    </tr>\n",
       "    <tr>\n",
       "      <th>8</th>\n",
       "      <td>Ballad</td>\n",
       "      <td>\\r\\n\\t\\t\\t\\t혼자 하는 말 혼자 자는 밤 혼자 있는 것 혼자 사는 것 그...</td>\n",
       "    </tr>\n",
       "    <tr>\n",
       "      <th>9</th>\n",
       "      <td>Ballad</td>\n",
       "      <td>\\r\\n\\t\\t\\t\\t그림 같은 집이 뭐 별거겠어요  어느 곳이든 그대가 있다면 ...</td>\n",
       "    </tr>\n",
       "    <tr>\n",
       "      <th>10</th>\n",
       "      <td>Ballad</td>\n",
       "      <td>\\r\\n\\t\\t\\t\\tI always lovin’ 내가 그려왔던 꿈 푸른 바다 위...</td>\n",
       "    </tr>\n",
       "    <tr>\n",
       "      <th>11</th>\n",
       "      <td>Ballad</td>\n",
       "      <td>\\r\\n\\t\\t\\t\\t차가워진 눈빛을 바라보며 이별의 말을 전해 들어요 아무 의미...</td>\n",
       "    </tr>\n",
       "    <tr>\n",
       "      <th>12</th>\n",
       "      <td>Ballad</td>\n",
       "      <td>\\r\\n\\t\\t\\t\\t찢어진 종잇조각에  담아낸 나의 진심에 선명해져 someth...</td>\n",
       "    </tr>\n",
       "    <tr>\n",
       "      <th>13</th>\n",
       "      <td>Ballad</td>\n",
       "      <td>\\r\\n\\t\\t\\t\\t시계가 반대로 돌아가고 있어 TV속 영화가 되감아지고 있어 ...</td>\n",
       "    </tr>\n",
       "    <tr>\n",
       "      <th>14</th>\n",
       "      <td>Ballad</td>\n",
       "      <td>\\r\\n\\t\\t\\t\\t너를 위해 부르는 내 마지막 노래 우리 이야기에 마침표를 찍...</td>\n",
       "    </tr>\n",
       "    <tr>\n",
       "      <th>15</th>\n",
       "      <td>Ballad</td>\n",
       "      <td>\\r\\n\\t\\t\\t\\t떠나거든 내 소식이 들려오면 이제는 모른다고 해줘  언제나 ...</td>\n",
       "    </tr>\n",
       "    <tr>\n",
       "      <th>16</th>\n",
       "      <td>Ballad</td>\n",
       "      <td>\\r\\n\\t\\t\\t\\t웃는 모습이 너무 아름다운   그런 너를 기억하면서  괜찮아...</td>\n",
       "    </tr>\n",
       "    <tr>\n",
       "      <th>17</th>\n",
       "      <td>Ballad</td>\n",
       "      <td>\\r\\n\\t\\t\\t\\t이 비가 머리 위로 쏟아지면 흠뻑 젖고 말겠죠 내 마음도 머...</td>\n",
       "    </tr>\n",
       "    <tr>\n",
       "      <th>18</th>\n",
       "      <td>Ballad</td>\n",
       "      <td>\\r\\n\\t\\t\\t\\t무슨 말을 할까  어디서부터 어떻게 고개만 떨구는 나  그런...</td>\n",
       "    </tr>\n",
       "    <tr>\n",
       "      <th>19</th>\n",
       "      <td>Ballad</td>\n",
       "      <td>\\r\\n\\t\\t\\t\\t오늘 하루 쉴 숨이  오늘 하루 쉴 곳이  오늘만큼 이렇게 ...</td>\n",
       "    </tr>\n",
       "    <tr>\n",
       "      <th>20</th>\n",
       "      <td>Ballad</td>\n",
       "      <td>\\r\\n\\t\\t\\t\\t꿈에서도 그리운 목소리는 이름 불러도 대답을 하지 않아 글썽...</td>\n",
       "    </tr>\n",
       "    <tr>\n",
       "      <th>21</th>\n",
       "      <td>Ballad</td>\n",
       "      <td>\\r\\n\\t\\t\\t\\t나의 이 사랑이 너에겐  어떤 의미였을까  나처럼 하루가  ...</td>\n",
       "    </tr>\n",
       "    <tr>\n",
       "      <th>22</th>\n",
       "      <td>Ballad</td>\n",
       "      <td>\\r\\n\\t\\t\\t\\t비가 오던 우산 속  젖은 너의 어깨 끝  작은 떨림도 느낄...</td>\n",
       "    </tr>\n",
       "    <tr>\n",
       "      <th>23</th>\n",
       "      <td>Ballad</td>\n",
       "      <td>\\r\\n\\t\\t\\t\\t알아  아무렇지도 않은 척해 봐도 기다린단 걸 애써 웃어 보...</td>\n",
       "    </tr>\n",
       "    <tr>\n",
       "      <th>24</th>\n",
       "      <td>Ballad</td>\n",
       "      <td>\\r\\n\\t\\t\\t\\t네가 문득 떠오르는 날엔  아무 일도 손에 잡히질 않아서  ...</td>\n",
       "    </tr>\n",
       "    <tr>\n",
       "      <th>25</th>\n",
       "      <td>Ballad</td>\n",
       "      <td>\\r\\n\\t\\t\\t\\t아프지 마요  외롭지 마요 행복하길 바라요  오늘도 어제도 ...</td>\n",
       "    </tr>\n",
       "    <tr>\n",
       "      <th>26</th>\n",
       "      <td>Ballad</td>\n",
       "      <td>\\r\\n\\t\\t\\t\\t세상이 멈춘 것 같았어 우연히 널 거리에서 마주쳤을 때 가끔...</td>\n",
       "    </tr>\n",
       "    <tr>\n",
       "      <th>27</th>\n",
       "      <td>Ballad</td>\n",
       "      <td>\\r\\n\\t\\t\\t\\t감추려 숨기려 지우려고 아무리 애써도 온몸에 젖어든 기억들이...</td>\n",
       "    </tr>\n",
       "    <tr>\n",
       "      <th>28</th>\n",
       "      <td>Ballad</td>\n",
       "      <td>\\r\\n\\t\\t\\t\\t그만 말해 뭘 안다고 자꾸 뭐라고 해 그만 말해 그렇게 잘 ...</td>\n",
       "    </tr>\n",
       "    <tr>\n",
       "      <th>29</th>\n",
       "      <td>Dance,Ballad</td>\n",
       "      <td>\\r\\n\\t\\t\\t\\t지금 뭐해 I’ll be yours Baby I’ll be ...</td>\n",
       "    </tr>\n",
       "    <tr>\n",
       "      <th>...</th>\n",
       "      <td>...</td>\n",
       "      <td>...</td>\n",
       "    </tr>\n",
       "    <tr>\n",
       "      <th>4970</th>\n",
       "      <td>Dance</td>\n",
       "      <td>\\r\\n\\t\\t\\t\\tOh oh oh oh oh oh oh Baby without...</td>\n",
       "    </tr>\n",
       "    <tr>\n",
       "      <th>4971</th>\n",
       "      <td>Dance</td>\n",
       "      <td>\\r\\n\\t\\t\\t\\t이랬다 저랬다 좀 하지마 네 앞에 서면 달라지잖아 생각했던 ...</td>\n",
       "    </tr>\n",
       "    <tr>\n",
       "      <th>4972</th>\n",
       "      <td>Dance</td>\n",
       "      <td>\\r\\n\\t\\t\\t\\t아무 일도 내겐 없는거야  처음부터 우린 모른거야 워어어  ...</td>\n",
       "    </tr>\n",
       "    <tr>\n",
       "      <th>4973</th>\n",
       "      <td>Dance</td>\n",
       "      <td>\\r\\n\\t\\t\\t\\tBaby My Love Beautiful  나는 너를 사랑해...</td>\n",
       "    </tr>\n",
       "    <tr>\n",
       "      <th>4974</th>\n",
       "      <td>Dance</td>\n",
       "      <td>\\r\\n\\t\\t\\t\\t그대가 이쪽을 보게   제발 나와 눈이 마주치게  해달라고 ...</td>\n",
       "    </tr>\n",
       "    <tr>\n",
       "      <th>4975</th>\n",
       "      <td>Dance</td>\n",
       "      <td>\\r\\n\\t\\t\\t\\t한 송이 장미를  종이에 곱게 싸서  어제도 오늘도  하루 ...</td>\n",
       "    </tr>\n",
       "    <tr>\n",
       "      <th>4976</th>\n",
       "      <td>Dance</td>\n",
       "      <td>\\r\\n\\t\\t\\t\\t내가 지금 여기 있어  모든 마음 여기 있어 기다림에 지친 ...</td>\n",
       "    </tr>\n",
       "    <tr>\n",
       "      <th>4977</th>\n",
       "      <td>Dance</td>\n",
       "      <td>\\r\\n\\t\\t\\t\\t버릇처럼 어제를 그리며 헛된 시간이라 몇 번을 되뇌여도 저물...</td>\n",
       "    </tr>\n",
       "    <tr>\n",
       "      <th>4978</th>\n",
       "      <td>Dance</td>\n",
       "      <td>\\r\\n\\t\\t\\t\\tget out bad boy buzz off bad boy ...</td>\n",
       "    </tr>\n",
       "    <tr>\n",
       "      <th>4979</th>\n",
       "      <td>Dance</td>\n",
       "      <td>\\r\\n\\t\\t\\t\\t나는 매일 학교가는 버스안에서 항상 같은 자리\\r\\n</td>\n",
       "    </tr>\n",
       "    <tr>\n",
       "      <th>4980</th>\n",
       "      <td>Dance</td>\n",
       "      <td>\\r\\n\\t\\t\\t\\tStupid  어쩜 그리 많은지   니가 바란다는 스타일  ...</td>\n",
       "    </tr>\n",
       "    <tr>\n",
       "      <th>4981</th>\n",
       "      <td>Dance</td>\n",
       "      <td>\\r\\n\\t\\t\\t\\tBaby baby 좀 힘들지도  몰라 가만 안 둬  더 못살...</td>\n",
       "    </tr>\n",
       "    <tr>\n",
       "      <th>4982</th>\n",
       "      <td>Dance</td>\n",
       "      <td>\\r\\n\\t\\t\\t\\t나만을 바라봐라 뻥드리아 너만을 사랑할께 뻥드리아 당신이 내...</td>\n",
       "    </tr>\n",
       "    <tr>\n",
       "      <th>4983</th>\n",
       "      <td>Dance</td>\n",
       "      <td>\\r\\n\\t\\t\\t\\tMy love 내 맘을 열어봐 그 안에 크고 작은 니가 있어...</td>\n",
       "    </tr>\n",
       "    <tr>\n",
       "      <th>4984</th>\n",
       "      <td>Dance</td>\n",
       "      <td>\\r\\n\\t\\t\\t\\t넌 내가 생각하는 로미오  언제까지 날 애태우오  내 가슴이...</td>\n",
       "    </tr>\n",
       "    <tr>\n",
       "      <th>4985</th>\n",
       "      <td>Dance</td>\n",
       "      <td>\\r\\n\\t\\t\\t\\t가자 부산 우우우 우우우우 지금 부산 지금 떠나자 부산 오륙...</td>\n",
       "    </tr>\n",
       "    <tr>\n",
       "      <th>4986</th>\n",
       "      <td>Dance</td>\n",
       "      <td></td>\n",
       "    </tr>\n",
       "    <tr>\n",
       "      <th>4987</th>\n",
       "      <td>Dance</td>\n",
       "      <td>\\r\\n\\t\\t\\t\\t왕년엔 친구였다 지금은 애인 됐다 왕년엔 친구였다지금은 애인...</td>\n",
       "    </tr>\n",
       "    <tr>\n",
       "      <th>4988</th>\n",
       "      <td>Dance</td>\n",
       "      <td>\\r\\n\\t\\t\\t\\t누가 좀 나를 도와 주세요   제발 한번만 날 살려주세요  ...</td>\n",
       "    </tr>\n",
       "    <tr>\n",
       "      <th>4989</th>\n",
       "      <td>Dance</td>\n",
       "      <td>\\r\\n\\t\\t\\t\\t너의 사소한 움직임이  내 마음을 흔들고  지금처럼 섹시한 ...</td>\n",
       "    </tr>\n",
       "    <tr>\n",
       "      <th>4990</th>\n",
       "      <td>Dance</td>\n",
       "      <td>\\r\\n\\t\\t\\t\\t오늘 넌 내게 이런 말을 물어봤지  나의 첫사랑이 바로 너냐...</td>\n",
       "    </tr>\n",
       "    <tr>\n",
       "      <th>4991</th>\n",
       "      <td>Dance</td>\n",
       "      <td>\\r\\n\\t\\t\\t\\t전해주고 싶어 슬픈 시간이 다 흩어진 후에야 들리지만 눈을감...</td>\n",
       "    </tr>\n",
       "    <tr>\n",
       "      <th>4992</th>\n",
       "      <td>Dance</td>\n",
       "      <td>\\r\\n\\t\\t\\t\\t어디를 바라보고 있나요  그 곳은 아무 것도 없는데  애써 ...</td>\n",
       "    </tr>\n",
       "    <tr>\n",
       "      <th>4993</th>\n",
       "      <td>Dance</td>\n",
       "      <td>\\r\\n\\t\\t\\t\\t와 여름이다 하 막이래  슈 슈 슈비룹빠빠  슈 슈 슈비룹빠...</td>\n",
       "    </tr>\n",
       "    <tr>\n",
       "      <th>4994</th>\n",
       "      <td>Dance</td>\n",
       "      <td>\\r\\n\\t\\t\\t\\tIt's too late girl  All mine her ...</td>\n",
       "    </tr>\n",
       "    <tr>\n",
       "      <th>4995</th>\n",
       "      <td>Dance</td>\n",
       "      <td>\\r\\n\\t\\t\\t\\tWa Wa Yeh!   가식적인 체면 다 모두 다 버리고  ...</td>\n",
       "    </tr>\n",
       "    <tr>\n",
       "      <th>4996</th>\n",
       "      <td>Dance</td>\n",
       "      <td>\\r\\n\\t\\t\\t\\t그까짓 시간이야 버릴 수 있-지만-- 아무 관심없는 척하는 ...</td>\n",
       "    </tr>\n",
       "    <tr>\n",
       "      <th>4997</th>\n",
       "      <td>Dance</td>\n",
       "      <td>\\r\\n\\t\\t\\t\\tWhy U tryna go home so quick Ya k...</td>\n",
       "    </tr>\n",
       "    <tr>\n",
       "      <th>4998</th>\n",
       "      <td>Dance</td>\n",
       "      <td>\\r\\n\\t\\t\\t\\tAh Ah 하나둘셋  Welcome to the Super ...</td>\n",
       "    </tr>\n",
       "    <tr>\n",
       "      <th>4999</th>\n",
       "      <td>Dance</td>\n",
       "      <td>\\r\\n\\t\\t\\t\\t아마 나 조금은 지친 것 같아 아무 의미 없는 통화도 Oh ...</td>\n",
       "    </tr>\n",
       "  </tbody>\n",
       "</table>\n",
       "<p>5000 rows × 2 columns</p>\n",
       "</div>"
      ],
      "text/plain": [
       "             genre                                              lyric\n",
       "0           Ballad   \\r\\n\\t\\t\\t\\t환상을 본 적이 있나요 전 있어요 아지랑이 같은 색깔이죠 텅...\n",
       "1           Ballad   \\r\\n\\t\\t\\t\\t이 밤 그날의 반딧불을 당신의 창 가까이 보낼게요 음 사랑한...\n",
       "2           Ballad   \\r\\n\\t\\t\\t\\t비내리는 날엔 우산이 돼주고 어둠이 오면 빛이 돼줄게 추운 ...\n",
       "3           Ballad   \\r\\n\\t\\t\\t\\t안녕 오랜만이야 물음표 없이 참 너다운 목소리 정해진 규칙처...\n",
       "4           Ballad   \\r\\n\\t\\t\\t\\t더는 할 말이 없어 다른 이유도 어떤 변명도 난 의미 없단 ...\n",
       "5           Ballad   \\r\\n\\t\\t\\t\\t조만간 얼굴 보자  언제 밥 한번 먹자  좋아 좋아  난 오...\n",
       "6           Ballad   \\r\\n\\t\\t\\t\\t그리울 때 눈 감으면 더 잘 보이는 그런 사람 잊으려 하고 ...\n",
       "7           Ballad   \\r\\n\\t\\t\\t\\t이건 비밀이야  아무에게도 고백하지 않았던 이야기를 들려주면...\n",
       "8           Ballad   \\r\\n\\t\\t\\t\\t혼자 하는 말 혼자 자는 밤 혼자 있는 것 혼자 사는 것 그...\n",
       "9           Ballad   \\r\\n\\t\\t\\t\\t그림 같은 집이 뭐 별거겠어요  어느 곳이든 그대가 있다면 ...\n",
       "10          Ballad   \\r\\n\\t\\t\\t\\tI always lovin’ 내가 그려왔던 꿈 푸른 바다 위...\n",
       "11          Ballad   \\r\\n\\t\\t\\t\\t차가워진 눈빛을 바라보며 이별의 말을 전해 들어요 아무 의미...\n",
       "12          Ballad   \\r\\n\\t\\t\\t\\t찢어진 종잇조각에  담아낸 나의 진심에 선명해져 someth...\n",
       "13          Ballad   \\r\\n\\t\\t\\t\\t시계가 반대로 돌아가고 있어 TV속 영화가 되감아지고 있어 ...\n",
       "14          Ballad   \\r\\n\\t\\t\\t\\t너를 위해 부르는 내 마지막 노래 우리 이야기에 마침표를 찍...\n",
       "15          Ballad   \\r\\n\\t\\t\\t\\t떠나거든 내 소식이 들려오면 이제는 모른다고 해줘  언제나 ...\n",
       "16          Ballad   \\r\\n\\t\\t\\t\\t웃는 모습이 너무 아름다운   그런 너를 기억하면서  괜찮아...\n",
       "17          Ballad   \\r\\n\\t\\t\\t\\t이 비가 머리 위로 쏟아지면 흠뻑 젖고 말겠죠 내 마음도 머...\n",
       "18          Ballad   \\r\\n\\t\\t\\t\\t무슨 말을 할까  어디서부터 어떻게 고개만 떨구는 나  그런...\n",
       "19          Ballad   \\r\\n\\t\\t\\t\\t오늘 하루 쉴 숨이  오늘 하루 쉴 곳이  오늘만큼 이렇게 ...\n",
       "20          Ballad   \\r\\n\\t\\t\\t\\t꿈에서도 그리운 목소리는 이름 불러도 대답을 하지 않아 글썽...\n",
       "21          Ballad   \\r\\n\\t\\t\\t\\t나의 이 사랑이 너에겐  어떤 의미였을까  나처럼 하루가  ...\n",
       "22          Ballad   \\r\\n\\t\\t\\t\\t비가 오던 우산 속  젖은 너의 어깨 끝  작은 떨림도 느낄...\n",
       "23          Ballad   \\r\\n\\t\\t\\t\\t알아  아무렇지도 않은 척해 봐도 기다린단 걸 애써 웃어 보...\n",
       "24          Ballad   \\r\\n\\t\\t\\t\\t네가 문득 떠오르는 날엔  아무 일도 손에 잡히질 않아서  ...\n",
       "25          Ballad   \\r\\n\\t\\t\\t\\t아프지 마요  외롭지 마요 행복하길 바라요  오늘도 어제도 ...\n",
       "26          Ballad   \\r\\n\\t\\t\\t\\t세상이 멈춘 것 같았어 우연히 널 거리에서 마주쳤을 때 가끔...\n",
       "27          Ballad   \\r\\n\\t\\t\\t\\t감추려 숨기려 지우려고 아무리 애써도 온몸에 젖어든 기억들이...\n",
       "28          Ballad   \\r\\n\\t\\t\\t\\t그만 말해 뭘 안다고 자꾸 뭐라고 해 그만 말해 그렇게 잘 ...\n",
       "29    Dance,Ballad   \\r\\n\\t\\t\\t\\t지금 뭐해 I’ll be yours Baby I’ll be ...\n",
       "...            ...                                                ...\n",
       "4970         Dance   \\r\\n\\t\\t\\t\\tOh oh oh oh oh oh oh Baby without...\n",
       "4971         Dance   \\r\\n\\t\\t\\t\\t이랬다 저랬다 좀 하지마 네 앞에 서면 달라지잖아 생각했던 ...\n",
       "4972         Dance   \\r\\n\\t\\t\\t\\t아무 일도 내겐 없는거야  처음부터 우린 모른거야 워어어  ...\n",
       "4973         Dance   \\r\\n\\t\\t\\t\\tBaby My Love Beautiful  나는 너를 사랑해...\n",
       "4974         Dance   \\r\\n\\t\\t\\t\\t그대가 이쪽을 보게   제발 나와 눈이 마주치게  해달라고 ...\n",
       "4975         Dance   \\r\\n\\t\\t\\t\\t한 송이 장미를  종이에 곱게 싸서  어제도 오늘도  하루 ...\n",
       "4976         Dance   \\r\\n\\t\\t\\t\\t내가 지금 여기 있어  모든 마음 여기 있어 기다림에 지친 ...\n",
       "4977         Dance   \\r\\n\\t\\t\\t\\t버릇처럼 어제를 그리며 헛된 시간이라 몇 번을 되뇌여도 저물...\n",
       "4978         Dance   \\r\\n\\t\\t\\t\\tget out bad boy buzz off bad boy ...\n",
       "4979         Dance         \\r\\n\\t\\t\\t\\t나는 매일 학교가는 버스안에서 항상 같은 자리\\r\\n \n",
       "4980         Dance   \\r\\n\\t\\t\\t\\tStupid  어쩜 그리 많은지   니가 바란다는 스타일  ...\n",
       "4981         Dance   \\r\\n\\t\\t\\t\\tBaby baby 좀 힘들지도  몰라 가만 안 둬  더 못살...\n",
       "4982         Dance   \\r\\n\\t\\t\\t\\t나만을 바라봐라 뻥드리아 너만을 사랑할께 뻥드리아 당신이 내...\n",
       "4983         Dance   \\r\\n\\t\\t\\t\\tMy love 내 맘을 열어봐 그 안에 크고 작은 니가 있어...\n",
       "4984         Dance   \\r\\n\\t\\t\\t\\t넌 내가 생각하는 로미오  언제까지 날 애태우오  내 가슴이...\n",
       "4985         Dance   \\r\\n\\t\\t\\t\\t가자 부산 우우우 우우우우 지금 부산 지금 떠나자 부산 오륙...\n",
       "4986         Dance                                                   \n",
       "4987         Dance   \\r\\n\\t\\t\\t\\t왕년엔 친구였다 지금은 애인 됐다 왕년엔 친구였다지금은 애인...\n",
       "4988         Dance   \\r\\n\\t\\t\\t\\t누가 좀 나를 도와 주세요   제발 한번만 날 살려주세요  ...\n",
       "4989         Dance   \\r\\n\\t\\t\\t\\t너의 사소한 움직임이  내 마음을 흔들고  지금처럼 섹시한 ...\n",
       "4990         Dance   \\r\\n\\t\\t\\t\\t오늘 넌 내게 이런 말을 물어봤지  나의 첫사랑이 바로 너냐...\n",
       "4991         Dance   \\r\\n\\t\\t\\t\\t전해주고 싶어 슬픈 시간이 다 흩어진 후에야 들리지만 눈을감...\n",
       "4992         Dance   \\r\\n\\t\\t\\t\\t어디를 바라보고 있나요  그 곳은 아무 것도 없는데  애써 ...\n",
       "4993         Dance   \\r\\n\\t\\t\\t\\t와 여름이다 하 막이래  슈 슈 슈비룹빠빠  슈 슈 슈비룹빠...\n",
       "4994         Dance   \\r\\n\\t\\t\\t\\tIt's too late girl  All mine her ...\n",
       "4995         Dance   \\r\\n\\t\\t\\t\\tWa Wa Yeh!   가식적인 체면 다 모두 다 버리고  ...\n",
       "4996         Dance   \\r\\n\\t\\t\\t\\t그까짓 시간이야 버릴 수 있-지만-- 아무 관심없는 척하는 ...\n",
       "4997         Dance   \\r\\n\\t\\t\\t\\tWhy U tryna go home so quick Ya k...\n",
       "4998         Dance   \\r\\n\\t\\t\\t\\tAh Ah 하나둘셋  Welcome to the Super ...\n",
       "4999         Dance   \\r\\n\\t\\t\\t\\t아마 나 조금은 지친 것 같아 아무 의미 없는 통화도 Oh ...\n",
       "\n",
       "[5000 rows x 2 columns]"
      ]
     },
     "execution_count": 40,
     "metadata": {},
     "output_type": "execute_result"
    }
   ],
   "source": [
    "df2"
   ]
  },
  {
   "cell_type": "code",
   "execution_count": 41,
   "metadata": {
    "collapsed": false
   },
   "outputs": [
    {
     "data": {
      "text/plain": [
       "5000"
      ]
     },
     "execution_count": 41,
     "metadata": {},
     "output_type": "execute_result"
    }
   ],
   "source": [
    "len(df2)"
   ]
  },
  {
   "cell_type": "markdown",
   "metadata": {
    "collapsed": true
   },
   "source": [
    "## 저장"
   ]
  },
  {
   "cell_type": "code",
   "execution_count": 2,
   "metadata": {
    "collapsed": true
   },
   "outputs": [],
   "source": [
    "import csv\n",
    "from pandas import read_csv"
   ]
  },
  {
   "cell_type": "code",
   "execution_count": 42,
   "metadata": {
    "collapsed": true
   },
   "outputs": [],
   "source": [
    "df2.to_csv('lyric_genre.csv', encoding='utf8')"
   ]
  }
 ],
 "metadata": {
  "kernelspec": {
   "display_name": "Python 3",
   "language": "python",
   "name": "python3"
  },
  "language_info": {
   "codemirror_mode": {
    "name": "ipython",
    "version": 3
   },
   "file_extension": ".py",
   "mimetype": "text/x-python",
   "name": "python",
   "nbconvert_exporter": "python",
   "pygments_lexer": "ipython3",
   "version": "3.6.0"
  }
 },
 "nbformat": 4,
 "nbformat_minor": 2
}
